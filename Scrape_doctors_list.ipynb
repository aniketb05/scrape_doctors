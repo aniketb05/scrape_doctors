{
 "cells": [
  {
   "cell_type": "code",
   "execution_count": 1,
   "metadata": {
    "collapsed": true
   },
   "outputs": [],
   "source": [
    "from bs4 import BeautifulSoup\n",
    "import requests"
   ]
  },
  {
   "cell_type": "code",
   "execution_count": 4,
   "metadata": {
    "collapsed": false
   },
   "outputs": [],
   "source": [
    "# com_url = raw_input(\"Enter the list_view website to extract the doctor's profile URL from, example:  'https://www.practo.com/mumbai/ophthalmologist?page=' : \")\n",
    "com_url =  'https://www.practo.com/mumbai/ophthalmologist?page='\n",
    "#file_name = raw_input(\"Enter file name to save the list of urls, example: 'ophthalmologist.txt' :\")\n",
    "file_name = 'ophthalmologist.txt'\n",
    "i=1\n",
    "with open(file_name,'w') as fw:\n",
    "    while  True:\n",
    "        r = requests.get(com_url + str(i))\n",
    "        data = r.content\n",
    "        soup = BeautifulSoup(data, 'html.parser')\n",
    "        if soup.find('a', class_ = 'page_link page_link_next') is None:\n",
    "            break\n",
    "        lis = soup.find_all('div', class_='listing-row-wrapper')\n",
    "        for block in lis:\n",
    "            if block.div.div.span:\n",
    "                fw.write( block.div.div.span['href']+'\\n')\n",
    "        i +=1"
   ]
  },
  {
   "cell_type": "code",
   "execution_count": null,
   "metadata": {
    "collapsed": true
   },
   "outputs": [],
   "source": []
  }
 ],
 "metadata": {
  "anaconda-cloud": {},
  "kernelspec": {
   "display_name": "Python [default]",
   "language": "python",
   "name": "python2"
  },
  "language_info": {
   "codemirror_mode": {
    "name": "ipython",
    "version": 2
   },
   "file_extension": ".py",
   "mimetype": "text/x-python",
   "name": "python",
   "nbconvert_exporter": "python",
   "pygments_lexer": "ipython2",
   "version": "2.7.12"
  }
 },
 "nbformat": 4,
 "nbformat_minor": 1
}
