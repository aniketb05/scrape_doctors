{
 "cells": [
  {
   "cell_type": "code",
   "execution_count": 17,
   "metadata": {
    "collapsed": true
   },
   "outputs": [],
   "source": [
    "from bs4 import BeautifulSoup\n",
    "import requests\n",
    "import re"
   ]
  },
  {
   "cell_type": "code",
   "execution_count": 28,
   "metadata": {
    "collapsed": false
   },
   "outputs": [
    {
     "name": "stdout",
     "output_type": "stream",
     "text": [
      "Dr. Priya Rajput\n"
     ]
    }
   ],
   "source": [
    "doc_url =  'https://www.practo.com/mumbai/doctor/dr-priya-rajput-ophthalmologist'\n",
    "# doc_url = 'https://www.practo.com/mumbai/doctor/dr-priya-rajput-ophthalmologist'\n",
    "r = requests.get(doc_url)\n",
    "data = r.content\n",
    "soup = BeautifulSoup(data, 'lxml')\n",
    "name = soup.find('h1', class_='doctor-name').text.encode('utf-8')\n",
    "print name"
   ]
  },
  {
   "cell_type": "code",
   "execution_count": 19,
   "metadata": {
    "collapsed": true
   },
   "outputs": [],
   "source": [
    "def clean_text(tag_text):\n",
    "    return re.sub(' ,', ',', re.sub('\\s+', ' ', tag_text))"
   ]
  },
  {
   "cell_type": "code",
   "execution_count": 29,
   "metadata": {
    "collapsed": false
   },
   "outputs": [
    {
     "name": "stdout",
     "output_type": "stream",
     "text": [
      "MBBS, MS - Ophthalmology\n"
     ]
    }
   ],
   "source": [
    "qual = soup.find('p', class_='doctor-qualifications').text.encode('utf-8').strip()\n",
    "qualifications = clean_text(qual)\n",
    "print qualifications"
   ]
  },
  {
   "cell_type": "code",
   "execution_count": 30,
   "metadata": {
    "collapsed": false
   },
   "outputs": [
    {
     "name": "stdout",
     "output_type": "stream",
     "text": [
      "Ophthalmologist/ Eye Surgeon\n"
     ]
    }
   ],
   "source": [
    "spec = soup.find('h2', class_='doctor-specialties').text.encode('utf-8').strip()\n",
    "specialties =  clean_text(spec)\n",
    "print specialties"
   ]
  },
  {
   "cell_type": "code",
   "execution_count": 31,
   "metadata": {
    "collapsed": false
   },
   "outputs": [
    {
     "name": "stdout",
     "output_type": "stream",
     "text": [
      "Not Verified\n"
     ]
    }
   ],
   "source": [
    "try:\n",
    "    verification_label = soup.find('span', class_='verification-label').text.encode('utf-8').strip()\n",
    "except:\n",
    "    verification_label = 'Not Verified'\n",
    "print verification_label"
   ]
  },
  {
   "cell_type": "code",
   "execution_count": 23,
   "metadata": {
    "collapsed": false
   },
   "outputs": [
    {
     "name": "stdout",
     "output_type": "stream",
     "text": [
      "Not Scored 0\n"
     ]
    }
   ],
   "source": [
    "try:\n",
    "    patient_experience_score = soup.find('div', class_='patient_experience_score').text.encode('utf-8').strip()\n",
    "    votes_string = soup.find('span', class_='doctor-votes').text.encode('utf-8').strip()\n",
    "    votes = int(re.sub(r'\\D', \"\",votes_string))\n",
    "    score = int(re.sub(r'\\D', \"\",patient_experience_score) .replace(str(votes),''))\n",
    "except:\n",
    "    score = 'Not Scored'\n",
    "    votes = 0\n",
    "print score, votes"
   ]
  },
  {
   "cell_type": "code",
   "execution_count": 32,
   "metadata": {
    "collapsed": false
   },
   "outputs": [
    {
     "name": "stdout",
     "output_type": "stream",
     "text": [
      "Dr. Priya Rajput is an Ophthalmologist/ Eye Surgeon in Andheri East, Mumbai. Dr. Priya Rajput practices at Ravindra Joshi Medical Foundation in Andheri East, Mumbai and Sightplus Eye Care in Malad East, Mumbai. She completed MBBS and MS - Ophthalmology.<br/><br/> You can get the phone number of Dr. Priya Rajput on Practo.com.\n"
     ]
    }
   ],
   "source": [
    "desc = soup.find('meta', attrs = {'itemprop':'description'})\n",
    "description = desc['content'].encode('utf-8')\n",
    "print description"
   ]
  },
  {
   "cell_type": "code",
   "execution_count": 33,
   "metadata": {
    "collapsed": false
   },
   "outputs": [
    {
     "name": "stdout",
     "output_type": "stream",
     "text": [
      "Andheri East Mumbai\n",
      "Ravindra Joshi Medical Foundation\n",
      "https://www.practo.com/mumbai/clinic/ravindra-joshi-medical-foundation-andheri-east-1\n",
      "{'latitude': 'NA', 'longitude': 'NA'}\n",
      "Saraswati Aparment, Off Parsi Panchayat Road, Vasudev Mishra Marg, Andheri East. Landmark: Near Jain Temple, Mumbai\n",
      " MON - SUN 1:00 PM - 2:00 PM \n",
      "Malad East Mumbai\n",
      "Sightplus Eye Care\n",
      "https://www.practo.com/mumbai/clinic/sightplus-eye-care-malad-east\n",
      "{'latitude': 'NA', 'longitude': 'NA'}\n",
      "#5, Onkar, Malad East Next to AxisBank, Opp Oberoi Mall, Mumbai\n",
      " MON - SAT 10:00 AM - 1:00 PM \n"
     ]
    }
   ],
   "source": [
    "clinics_data = soup.find_all('div', class_= 'clinic-block', recursive = True)\n",
    "for clinic in clinics_data:\n",
    "    locality, city = clinic.find('div', class_ = 'clinic-locality').h2.text.encode('utf-8'), clinic.find('div', class_ = 'clinic-locality').span.text.encode('utf-8')\n",
    "    print locality, city\n",
    "    name = clinic.find('div', class_ = 'clinic-address').h2.text.encode('utf-8')\n",
    "    print name\n",
    "    clinic_url = clinic.find('div', class_ = 'clinic-address').h2.a['href'].encode('utf-8')\n",
    "    print clinic_url\n",
    "    clinic_geo_coordinates = {}\n",
    "    try:\n",
    "        clinic_geo_coordinates['latitude'] = float(clinic.find('p', class_ = 'map-link-container').find_all('meta')[0]['content'])\n",
    "        clinic_geo_coordinates['longitude'] = float(clinic.find('p', class_ = 'map-link-container').find_all('meta')[1]['content'])\n",
    "    except:\n",
    "        clinic_geo_coordinates['latitude'] = 'NA'\n",
    "        clinic_geo_coordinates['longitude'] = 'NA'\n",
    "    print clinic_geo_coordinates\n",
    "    clinic_address = clinic.find('p', class_ = 'clinic-street-address').text.encode('utf-8').strip()\n",
    "    print clinic_address\n",
    "    \n",
    "    clinic_timings_raw = clinic.find('div', class_='clinic-timings').text.encode('utf-8')\n",
    "    clinic_timings = clean_text(clinic_timings_raw)\n",
    "    if clinic_timings ==' ':\n",
    "        clinic_timings = 'Not Mentioned'\n",
    "    print clinic_timings"
   ]
  },
  {
   "cell_type": "code",
   "execution_count": null,
   "metadata": {
    "collapsed": true
   },
   "outputs": [],
   "source": []
  }
 ],
 "metadata": {
  "anaconda-cloud": {},
  "kernelspec": {
   "display_name": "Python [default]",
   "language": "python",
   "name": "python2"
  },
  "language_info": {
   "codemirror_mode": {
    "name": "ipython",
    "version": 2
   },
   "file_extension": ".py",
   "mimetype": "text/x-python",
   "name": "python",
   "nbconvert_exporter": "python",
   "pygments_lexer": "ipython2",
   "version": "2.7.12"
  }
 },
 "nbformat": 4,
 "nbformat_minor": 1
}
